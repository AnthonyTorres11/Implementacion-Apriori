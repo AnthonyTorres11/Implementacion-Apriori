{
  "metadata": {
    "language_info": {
      "codemirror_mode": {
        "name": "python",
        "version": 3
      },
      "file_extension": ".py",
      "mimetype": "text/x-python",
      "name": "python",
      "nbconvert_exporter": "python",
      "pygments_lexer": "ipython3",
      "version": "3.8"
    },
    "kernelspec": {
      "name": "python",
      "display_name": "Python (Pyodide)",
      "language": "python"
    }
  },
  "nbformat_minor": 4,
  "nbformat": 4,
  "cells": [
    {
      "cell_type": "code",
      "source": "Importar numpy como NP\nImportar matplotlib.pyplot como PLT\nImportar pandas como PD\nDesde Apyori import apriori\n\nstore_data = pd.read_csv('D:\\\\Datasets\\\\store_data.csv') //Importación de Dataset desde el sistema\n\nstore_data.head() // para comprobar el encabezado\n\nstore_data = pd.read_csv('D:\\\\Datasets\\\\store_data.csv', header=None)  //keeping header as None\n\nassociation_rules = apriori(registros, min_support=0,0045, min_confidence=0,2, min_lift=3, min_length=2)\nassociation_results = lista(association_rules)\n\nprint(len(association_rules)) //para comprobar el número total de reglas minadas\nprint(association_rules[0]) // Para imprimir el primer elemento, la lista association_rules para ver la primera regla\n\nPara el artículo en association_rules: // Para mostrar la regla, el apoyo, la confianza y la elevación para cada regla de una manera más clara:\n\n # Primer índice de la lista interna\n # Contiene el elemento base y agrega elemento\n par = elemento[0] \n elementos = [x para x en par]\n print(\"Regla: \" + elementos[0] + \" -> \" + elementos[1])\n\n #second índice de la lista interna\n print(\"Soporte: \" + str(item[1]))\n\n #third índice de la lista ubicada en 0º\n #of el tercer índice de la lista interna\n\n print(\"Confianza: \" + str(item[2][0][2]))\n    print(\"Lift: \" + str(item[2][0][3]))\n print(\"===================================\")",
      "metadata": {},
      "execution_count": null,
      "outputs": []
    }
  ]
}